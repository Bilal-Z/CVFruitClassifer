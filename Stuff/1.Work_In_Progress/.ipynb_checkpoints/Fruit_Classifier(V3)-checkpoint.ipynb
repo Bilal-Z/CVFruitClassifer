{
 "cells": [
  {
   "cell_type": "markdown",
   "metadata": {},
   "source": [
    "# .......................................................MashaAllah............................................................................ "
   ]
  },
  {
   "cell_type": "markdown",
   "metadata": {},
   "source": [
    "# Tranning model for (CV)FruitClassification"
   ]
  },
  {
   "cell_type": "markdown",
   "metadata": {},
   "source": [
    "# by: Abdullah and Bros"
   ]
  },
  {
   "cell_type": "markdown",
   "metadata": {},
   "source": [
    "#ConvolutionNeuralNetwork #DeepLearning #MachineLearning #ComputerVission #ArtificialIntaligence #DataScience "
   ]
  },
  {
   "cell_type": "code",
   "execution_count": 3,
   "metadata": {},
   "outputs": [],
   "source": [
    "import matplotlib.pyplot as plt\n",
    "import cv2\n",
    "import numpy as np"
   ]
  },
  {
   "cell_type": "markdown",
   "metadata": {},
   "source": [
    "# 1. Check DataSet and defing constants"
   ]
  },
  {
   "cell_type": "code",
   "execution_count": 4,
   "metadata": {},
   "outputs": [],
   "source": [
    "s = cv2.imread('../DATA/fruits-360_dataset/fruits-360/T&T/Training/Apple Braeburn/136_100.jpg')"
   ]
  },
  {
   "cell_type": "code",
   "execution_count": 5,
   "metadata": {},
   "outputs": [],
   "source": [
    "s = cv2.cvtColor(s,cv2.COLOR_BGR2RGB)"
   ]
  },
  {
   "cell_type": "code",
   "execution_count": 6,
   "metadata": {},
   "outputs": [
    {
     "data": {
      "text/plain": [
       "<matplotlib.image.AxesImage at 0x1dc7798bef0>"
      ]
     },
     "execution_count": 6,
     "metadata": {},
     "output_type": "execute_result"
    },
    {
     "data": {
      "image/png": "[encoded data removed]",
      "text/plain": [
       "<Figure size 432x288 with 1 Axes>"
      ]
     },
     "metadata": {
      "needs_background": "light"
     },
     "output_type": "display_data"
    }
   ],
   "source": [
    "plt.imshow(s)"
   ]
  },
  {
   "cell_type": "code",
   "execution_count": 7,
   "metadata": {},
   "outputs": [
    {
     "data": {
      "text/plain": [
       "(100, 100, 3)"
      ]
     },
     "execution_count": 7,
     "metadata": {},
     "output_type": "execute_result"
    }
   ],
   "source": [
    "s.shape"
   ]
  },
  {
   "cell_type": "markdown",
   "metadata": {},
   "source": [
    "# 2. Image Data Generator Obj creation ... for rescaling and stuff like that"
   ]
  },
  {
   "cell_type": "code",
   "execution_count": 8,
   "metadata": {},
   "outputs": [],
   "source": [
    "from keras.preprocessing.image import ImageDataGenerator"
   ]
  },
  {
   "cell_type": "code",
   "execution_count": 9,
   "metadata": {},
   "outputs": [],
   "source": [
    "train_datagen = ImageDataGenerator(rescale=1./255, rotation_range=30, width_shift_range=0.3, height_shift_range=0.3,\n",
    "            horizontal_flip=True, fill_mode='nearest')\n",
    " \n",
    "test_datagen = ImageDataGenerator(rescale=1./255)\n",
    " "
   ]
  },
  {
   "cell_type": "markdown",
   "metadata": {},
   "source": [
    "# 4. Building Model"
   ]
  },
  {
   "cell_type": "code",
   "execution_count": 10,
   "metadata": {},
   "outputs": [],
   "source": [
    "from keras.models import Sequential"
   ]
  },
  {
   "cell_type": "code",
   "execution_count": 11,
   "metadata": {},
   "outputs": [],
   "source": [
    "from keras.layers import Activation,Dropout,Flatten,Conv2D,MaxPooling2D,Dense"
   ]
  },
  {
   "cell_type": "code",
   "execution_count": 13,
   "metadata": {},
   "outputs": [],
   "source": [
    "model = Sequential()\n",
    "\n",
    "input_img_shape = (100,100,3)\n",
    "\n",
    "# layer One convotutional layer\n",
    "model.add( layer=Conv2D(filters=32, kernel_size=(3, 3), padding='same', activation = 'relu', input_shape=input_img_shape) )\n",
    "model.add( layer=Conv2D(filters=32, kernel_size=(3, 3), activation ='relu') )\n",
    "model.add( layer=MaxPooling2D(pool_size=(2, 2),strides=2) )\n",
    "model.add( layer=Dropout(rate=0.25) )\n",
    "\n",
    "# layer two convotutional layer\n",
    "model.add( layer=Conv2D(filters=64, kernel_size=(3, 3), padding='same', activation = 'relu') )\n",
    "model.add( layer=Conv2D(filters=64, kernel_size=(3, 3), activation = 'relu') )\n",
    "model.add( layer=MaxPooling2D(pool_size=(2, 2),strides=2) )\n",
    "model.add( layer=Dropout(rate=0.25) )\n",
    "\n",
    "# layer three flatten layer\n",
    "model.add( layer=Flatten() )\n",
    "\n",
    "# layer inter-connceted layer\n",
    "model.add( layer=Dense(units=512, activation = 'relu') )\n",
    "model.add( layer=Dropout(rate=0.5) )\n",
    "\n",
    "# layer final\n",
    "model.add( layer=Dense(units=120, activation = 'softmax') )"
   ]
  },
  {
   "cell_type": "markdown",
   "metadata": {},
   "source": [
    "# 5. Bulit Model Summary "
   ]
  },
  {
   "cell_type": "code",
   "execution_count": 14,
   "metadata": {},
   "outputs": [
    {
     "name": "stdout",
     "output_type": "stream",
     "text": [
      "_________________________________________________________________\n",
      "Layer (type)                 Output Shape              Param #   \n",
      "=================================================================\n",
      "conv2d_1 (Conv2D)            (None, 100, 100, 32)      896       \n",
      "_________________________________________________________________\n",
      "conv2d_2 (Conv2D)            (None, 98, 98, 32)        9248      \n",
      "_________________________________________________________________\n",
      "max_pooling2d_1 (MaxPooling2 (None, 49, 49, 32)        0         \n",
      "_________________________________________________________________\n",
      "dropout_1 (Dropout)          (None, 49, 49, 32)        0         \n",
      "_________________________________________________________________\n",
      "conv2d_3 (Conv2D)            (None, 49, 49, 64)        18496     \n",
      "_________________________________________________________________\n",
      "conv2d_4 (Conv2D)            (None, 47, 47, 64)        36928     \n",
      "_________________________________________________________________\n",
      "max_pooling2d_2 (MaxPooling2 (None, 23, 23, 64)        0         \n",
      "_________________________________________________________________\n",
      "dropout_2 (Dropout)          (None, 23, 23, 64)        0         \n",
      "_________________________________________________________________\n",
      "flatten_1 (Flatten)          (None, 33856)             0         \n",
      "_________________________________________________________________\n",
      "dense_1 (Dense)              (None, 512)               17334784  \n",
      "_________________________________________________________________\n",
      "dropout_3 (Dropout)          (None, 512)               0         \n",
      "_________________________________________________________________\n",
      "dense_2 (Dense)              (None, 120)               61560     \n",
      "=================================================================\n",
      "Total params: 17,461,912\n",
      "Trainable params: 17,461,912\n",
      "Non-trainable params: 0\n",
      "_________________________________________________________________\n"
     ]
    }
   ],
   "source": [
    "model.summary()"
   ]
  },
  {
   "cell_type": "markdown",
   "metadata": {},
   "source": [
    "# 6. Compile Model "
   ]
  },
  {
   "cell_type": "code",
   "execution_count": 15,
   "metadata": {},
   "outputs": [],
   "source": [
    "model.compile(loss='categorical_crossentropy', optimizer='adam', metrics=['accuracy'])"
   ]
  },
  {
   "cell_type": "markdown",
   "metadata": {},
   "source": [
    "# 7. Activating Image Generator"
   ]
  },
  {
   "cell_type": "code",
   "execution_count": null,
   "metadata": {},
   "outputs": [],
   "source": []
  },
  {
   "cell_type": "markdown",
   "metadata": {},
   "source": [
    "*** Few constants ***"
   ]
  },
  {
   "cell_type": "code",
   "execution_count": 16,
   "metadata": {},
   "outputs": [],
   "source": [
    "train_data_folder_path = '../DATA/fruits-360_dataset/fruits-360/T&T(custom)/Training'\n",
    "test_data_folder_path = '../DATA/fruits-360_dataset/fruits-360/T&T/Test'\n",
    "\n",
    "number_train_samples = 60498 \n",
    "number_test_samples = 20622  \n",
    "epochs = 1                      # change number of cycels here\n",
    "input_img_shape = (100,100,3)\n",
    "num_classes = 120\n",
    "batch_size = 32"
   ]
  },
  {
   "cell_type": "code",
   "execution_count": 17,
   "metadata": {},
   "outputs": [
    {
     "name": "stdout",
     "output_type": "stream",
     "text": [
      "Found 60498 images belonging to 120 classes.\n"
     ]
    }
   ],
   "source": [
    "train_img_gen = train_datagen.flow_from_directory(train_data_folder_path, target_size=input_img_shape[:2], batch_size=batch_size, class_mode='categorical', shuffle=True)"
   ]
  },
  {
   "cell_type": "code",
   "execution_count": 21,
   "metadata": {},
   "outputs": [
    {
     "name": "stdout",
     "output_type": "stream",
     "text": [
      "Found 20622 images belonging to 120 classes.\n"
     ]
    }
   ],
   "source": [
    "test_img_gen = test_datagen.flow_from_directory(test_data_folder_path, target_size=input_img_shape[:2],batch_size=batch_size, class_mode='categorical', shuffle=False)"
   ]
  },
  {
   "cell_type": "code",
   "execution_count": 22,
   "metadata": {},
   "outputs": [
    {
     "data": {
      "text/plain": [
       "32"
      ]
     },
     "execution_count": 22,
     "metadata": {},
     "output_type": "execute_result"
    }
   ],
   "source": [
    "train_img_gen.batch_size"
   ]
  },
  {
   "cell_type": "markdown",
   "metadata": {},
   "source": [
    "# 8. Classes we have"
   ]
  },
  {
   "cell_type": "code",
   "execution_count": 30,
   "metadata": {},
   "outputs": [
    {
     "data": {
      "text/plain": [
       "{'Apple Braeburn': 0,\n",
       " 'Apple Crimson Snow': 1,\n",
       " 'Apple Golden 1': 2,\n",
       " 'Apple Golden 2': 3,\n",
       " 'Apple Golden 3': 4,\n",
       " 'Apple Granny Smith': 5,\n",
       " 'Apple Pink Lady': 6,\n",
       " 'Apple Red 1': 7,\n",
       " 'Apple Red 2': 8,\n",
       " 'Apple Red 3': 9,\n",
       " 'Apple Red Delicious': 10,\n",
       " 'Apple Red Yellow 1': 11,\n",
       " 'Apple Red Yellow 2': 12,\n",
       " 'Apricot': 13,\n",
       " 'Avocado': 14,\n",
       " 'Avocado ripe': 15,\n",
       " 'Banana': 16,\n",
       " 'Banana Lady Finger': 17,\n",
       " 'Banana Red': 18,\n",
       " 'Beetroot': 19,\n",
       " 'Blueberry': 20,\n",
       " 'Cactus fruit': 21,\n",
       " 'Cantaloupe 1': 22,\n",
       " 'Cantaloupe 2': 23,\n",
       " 'Carambula': 24,\n",
       " 'Cauliflower': 25,\n",
       " 'Cherry 1': 26,\n",
       " 'Cherry 2': 27,\n",
       " 'Cherry Rainier': 28,\n",
       " 'Cherry Wax Black': 29,\n",
       " 'Cherry Wax Red': 30,\n",
       " 'Cherry Wax Yellow': 31,\n",
       " 'Chestnut': 32,\n",
       " 'Clementine': 33,\n",
       " 'Cocos': 34,\n",
       " 'Dates': 35,\n",
       " 'Eggplant': 36,\n",
       " 'Ginger Root': 37,\n",
       " 'Granadilla': 38,\n",
       " 'Grape Blue': 39,\n",
       " 'Grape Pink': 40,\n",
       " 'Grape White': 41,\n",
       " 'Grape White 2': 42,\n",
       " 'Grape White 3': 43,\n",
       " 'Grape White 4': 44,\n",
       " 'Grapefruit Pink': 45,\n",
       " 'Grapefruit White': 46,\n",
       " 'Guava': 47,\n",
       " 'Hazelnut': 48,\n",
       " 'Huckleberry': 49,\n",
       " 'Kaki': 50,\n",
       " 'Kiwi': 51,\n",
       " 'Kohlrabi': 52,\n",
       " 'Kumquats': 53,\n",
       " 'Lemon': 54,\n",
       " 'Lemon Meyer': 55,\n",
       " 'Limes': 56,\n",
       " 'Lychee': 57,\n",
       " 'Mandarine': 58,\n",
       " 'Mango': 59,\n",
       " 'Mango Red': 60,\n",
       " 'Mangostan': 61,\n",
       " 'Maracuja': 62,\n",
       " 'Melon Piel de Sapo': 63,\n",
       " 'Mulberry': 64,\n",
       " 'Nectarine': 65,\n",
       " 'Nectarine Flat': 66,\n",
       " 'Nut Forest': 67,\n",
       " 'Nut Pecan': 68,\n",
       " 'Onion Red': 69,\n",
       " 'Onion Red Peeled': 70,\n",
       " 'Onion White': 71,\n",
       " 'Orange': 72,\n",
       " 'Papaya': 73,\n",
       " 'Passion Fruit': 74,\n",
       " 'Peach': 75,\n",
       " 'Peach 2': 76,\n",
       " 'Peach Flat': 77,\n",
       " 'Pear': 78,\n",
       " 'Pear Abate': 79,\n",
       " 'Pear Forelle': 80,\n",
       " 'Pear Kaiser': 81,\n",
       " 'Pear Monster': 82,\n",
       " 'Pear Red': 83,\n",
       " 'Pear Williams': 84,\n",
       " 'Pepino': 85,\n",
       " 'Pepper Green': 86,\n",
       " 'Pepper Red': 87,\n",
       " 'Pepper Yellow': 88,\n",
       " 'Physalis': 89,\n",
       " 'Physalis with Husk': 90,\n",
       " 'Pineapple': 91,\n",
       " 'Pineapple Mini': 92,\n",
       " 'Pitahaya Red': 93,\n",
       " 'Plum': 94,\n",
       " 'Plum 2': 95,\n",
       " 'Plum 3': 96,\n",
       " 'Pomegranate': 97,\n",
       " 'Pomelo Sweetie': 98,\n",
       " 'Potato Red': 99,\n",
       " 'Potato Red Washed': 100,\n",
       " 'Potato Sweet': 101,\n",
       " 'Potato White': 102,\n",
       " 'Quince': 103,\n",
       " 'Rambutan': 104,\n",
       " 'Raspberry': 105,\n",
       " 'Redcurrant': 106,\n",
       " 'Salak': 107,\n",
       " 'Strawberry': 108,\n",
       " 'Strawberry Wedge': 109,\n",
       " 'Tamarillo': 110,\n",
       " 'Tangelo': 111,\n",
       " 'Tomato 1': 112,\n",
       " 'Tomato 2': 113,\n",
       " 'Tomato 3': 114,\n",
       " 'Tomato 4': 115,\n",
       " 'Tomato Cherry Red': 116,\n",
       " 'Tomato Maroon': 117,\n",
       " 'Tomato Yellow': 118,\n",
       " 'Walnut': 119}"
      ]
     },
     "execution_count": 30,
     "metadata": {},
     "output_type": "execute_result"
    }
   ],
   "source": [
    "train_img_gen.class_indices"
   ]
  },
  {
   "cell_type": "markdown",
   "metadata": {},
   "source": [
    "# 9.Traning Model for 20 epochs"
   ]
  },
  {
   "cell_type": "markdown",
   "metadata": {},
   "source": [
    "*** Shutting OFF warning because theu are kind of annoying ***"
   ]
  },
  {
   "cell_type": "code",
   "execution_count": 24,
   "metadata": {},
   "outputs": [],
   "source": [
    "import warnings"
   ]
  },
  {
   "cell_type": "code",
   "execution_count": 25,
   "metadata": {},
   "outputs": [],
   "source": [
    "warnings.filterwarnings('ignore')"
   ]
  },
  {
   "cell_type": "markdown",
   "metadata": {},
   "source": [
    "*** fitting model ***"
   ]
  },
  {
   "cell_type": "code",
   "execution_count": 27,
   "metadata": {},
   "outputs": [
    {
     "name": "stdout",
     "output_type": "stream",
     "text": [
      "Epoch 1/1\n",
      "1528/1528 [==============================] - 1974s 1s/step - loss: 3.3443 - acc: 0.1443 - val_loss: 2.0327 - val_acc: 0.3496\n"
     ]
    }
   ],
   "source": [
    "Results = model.fit_generator( generator=train_img_gen, steps_per_epoch =number_train_samples//batch_size, epochs = epochs, validation_data = test_img_gen, validation_steps = number_train_samples//batch_size)"
   ]
  },
  {
   "cell_type": "markdown",
   "metadata": {},
   "source": [
    "# 9. Evoluating performance "
   ]
  },
  {
   "cell_type": "code",
   "execution_count": 45,
   "metadata": {},
   "outputs": [
    {
     "ename": "NameError",
     "evalue": "name 'Results' is not defined",
     "output_type": "error",
     "traceback": [
      "\u001b[1;31m---------------------------------------------------------------------------\u001b[0m",
      "\u001b[1;31mNameError\u001b[0m                                 Traceback (most recent call last)",
      "\u001b[1;32m<ipython-input-45-061e9b4ca717>\u001b[0m in \u001b[0;36m<module>\u001b[1;34m\u001b[0m\n\u001b[1;32m----> 1\u001b[1;33m \u001b[0mResults\u001b[0m\u001b[1;33m.\u001b[0m\u001b[0mhistory\u001b[0m\u001b[1;33m[\u001b[0m\u001b[1;34m'acc'\u001b[0m\u001b[1;33m]\u001b[0m\u001b[1;33m\u001b[0m\u001b[0m\n\u001b[0m",
      "\u001b[1;31mNameError\u001b[0m: name 'Results' is not defined"
     ]
    }
   ],
   "source": [
    "Results.history['acc']"
   ]
  },
  {
   "cell_type": "code",
   "execution_count": 37,
   "metadata": {},
   "outputs": [
    {
     "data": {
      "text/plain": [
       "[<matplotlib.lines.Line2D at 0x218e5071a58>]"
      ]
     },
     "execution_count": 37,
     "metadata": {},
     "output_type": "execute_result"
    },
    {
     "data": {
      "image/png": "[encoded data removed]",
      "text/plain": [
       "<Figure size 432x288 with 1 Axes>"
      ]
     },
     "metadata": {
      "needs_background": "light"
     },
     "output_type": "display_data"
    }
   ],
   "source": [
    "plt.plot(Results.history['acc'])"
   ]
  },
  {
   "cell_type": "code",
   "execution_count": null,
   "metadata": {},
   "outputs": [],
   "source": [
    "# 10. Save and Load Model"
   ]
  },
  {
   "cell_type": "code",
   "execution_count": 41,
   "metadata": {},
   "outputs": [],
   "source": [
    "from keras.models import load_model"
   ]
  },
  {
   "cell_type": "code",
   "execution_count": 42,
   "metadata": {},
   "outputs": [],
   "source": [
    "model.save('Model3942b.h5') # change name here"
   ]
  },
  {
   "cell_type": "code",
   "execution_count": 43,
   "metadata": {},
   "outputs": [],
   "source": [
    "#new_model = load_model('')"
   ]
  },
  {
   "cell_type": "markdown",
   "metadata": {},
   "source": [
    "# 11. Testing Out the model on test pics"
   ]
  },
  {
   "cell_type": "code",
   "execution_count": null,
   "metadata": {},
   "outputs": [],
   "source": [
    "from sklearn.metrics import classification_report, confusion_matrix"
   ]
  },
  {
   "cell_type": "code",
   "execution_count": 85,
   "metadata": {},
   "outputs": [
    {
     "data": {
      "text/plain": [
       "514"
      ]
     },
     "execution_count": 85,
     "metadata": {},
     "output_type": "execute_result"
    }
   ],
   "source": [
    "nb_validation_samples // batch_size+1"
   ]
  },
  {
   "cell_type": "code",
   "execution_count": 97,
   "metadata": {},
   "outputs": [],
   "source": [
    "#Confution Matrix and Classification Report\n",
    "prededictions = model.predict_generator(test_img_gen, number_test_samples//batch_size+1)"
   ]
  },
  {
   "cell_type": "code",
   "execution_count": null,
   "metadata": {},
   "outputs": [],
   "source": [
    "prededictions_alter = np.argmax(prededictions, axis=1)"
   ]
  },
  {
   "cell_type": "markdown",
   "metadata": {},
   "source": [
    "*** some important fig***"
   ]
  },
  {
   "cell_type": "markdown",
   "metadata": {},
   "source": [
    "test_img_gen.classes"
   ]
  },
  {
   "cell_type": "code",
   "execution_count": 93,
   "metadata": {},
   "outputs": [
    {
     "data": {
      "text/plain": [
       "20622"
      ]
     },
     "execution_count": 93,
     "metadata": {},
     "output_type": "execute_result"
    }
   ],
   "source": [
    "#test_img_gen.n\n",
    "#Y_pred.shape\n",
    "#y_pred.shape"
   ]
  },
  {
   "cell_type": "code",
   "execution_count": 102,
   "metadata": {},
   "outputs": [],
   "source": [
    "class_labels = test_img_gen.class_indices\n",
    "class_labels = {v: k for k, v in class_labels.items()}\n",
    "target_names = list(class_labels.values())"
   ]
  },
  {
   "cell_type": "code",
   "execution_count": 100,
   "metadata": {},
   "outputs": [
    {
     "name": "stdout",
     "output_type": "stream",
     "text": [
      "Confusion Matrix\n",
      "[[ 79   0   0 ...   0   0   0]\n",
      " [  0   0   0 ...   0   0   0]\n",
      " [  0   0 163 ...   0   0   0]\n",
      " ...\n",
      " [  0   0  34 ...  10   0   0]\n",
      " [  0   0   0 ...   0 153   0]\n",
      " [  0   0   0 ...   0   0 249]]\n",
      "Classification Report\n",
      "                     precision    recall  f1-score   support\n",
      "\n",
      "     Apple Braeburn       0.45      0.48      0.46       164\n",
      " Apple Crimson Snow       0.00      0.00      0.00       148\n",
      "     Apple Golden 1       0.38      0.99      0.55       164\n",
      "     Apple Golden 2       0.00      0.00      0.00       164\n",
      "     Apple Golden 3       0.25      1.00      0.40       161\n",
      " Apple Granny Smith       0.37      1.00      0.54       164\n",
      "    Apple Pink Lady       0.00      0.00      0.00       152\n",
      "        Apple Red 1       0.00      0.00      0.00       164\n",
      "        Apple Red 2       0.34      0.79      0.48       164\n",
      "        Apple Red 3       0.00      0.00      0.00       144\n",
      "Apple Red Delicious       0.02      0.01      0.01       166\n",
      " Apple Red Yellow 1       0.45      0.03      0.06       164\n",
      " Apple Red Yellow 2       0.11      0.55      0.19       219\n",
      "            Apricot       0.31      0.85      0.45       164\n",
      "            Avocado       0.24      0.72      0.37       143\n",
      "       Avocado ripe       0.00      0.00      0.00       166\n",
      "             Banana       0.65      0.61      0.63       166\n",
      " Banana Lady Finger       1.00      0.69      0.82       152\n",
      "         Banana Red       0.70      0.53      0.60       166\n",
      "           Beetroot       0.00      0.00      0.00       150\n",
      "          Blueberry       0.00      0.00      0.00       154\n",
      "       Cactus fruit       0.59      0.14      0.23       166\n",
      "       Cantaloupe 1       0.00      0.00      0.00       164\n",
      "       Cantaloupe 2       0.56      0.99      0.71       164\n",
      "          Carambula       1.00      0.04      0.08       166\n",
      "        Cauliflower       0.14      0.31      0.19       234\n",
      "           Cherry 1       1.00      1.00      1.00       164\n",
      "           Cherry 2       0.00      0.00      0.00       246\n",
      "     Cherry Rainier       0.00      0.00      0.00       246\n",
      "   Cherry Wax Black       1.00      1.00      1.00       164\n",
      "     Cherry Wax Red       0.85      1.00      0.92       164\n",
      "  Cherry Wax Yellow       0.29      1.00      0.45       164\n",
      "           Chestnut       0.00      0.00      0.00       153\n",
      "         Clementine       0.00      0.00      0.00       166\n",
      "              Cocos       0.04      0.09      0.06       166\n",
      "              Dates       0.24      0.90      0.37       166\n",
      "           Eggplant       0.97      0.38      0.55       156\n",
      "        Ginger Root       0.00      0.00      0.00        99\n",
      "         Granadilla       0.74      1.00      0.85       166\n",
      "         Grape Blue       0.42      1.00      0.59       328\n",
      "         Grape Pink       0.00      0.00      0.00       164\n",
      "        Grape White       0.00      0.00      0.00       166\n",
      "      Grape White 2       1.00      0.94      0.97       166\n",
      "      Grape White 3       0.48      1.00      0.65       164\n",
      "      Grape White 4       0.22      1.00      0.36       158\n",
      "    Grapefruit Pink       0.43      0.69      0.53       166\n",
      "   Grapefruit White       0.23      1.00      0.37       164\n",
      "              Guava       1.00      0.73      0.84       166\n",
      "           Hazelnut       0.00      0.00      0.00       157\n",
      "        Huckleberry       0.00      0.00      0.00       166\n",
      "               Kaki       1.00      0.93      0.96       166\n",
      "               Kiwi       0.01      0.04      0.02       156\n",
      "           Kohlrabi       0.00      0.00      0.00       157\n",
      "           Kumquats       0.56      0.80      0.66       166\n",
      "              Lemon       0.00      0.00      0.00       164\n",
      "        Lemon Meyer       0.62      0.30      0.40       166\n",
      "              Limes       0.59      0.30      0.40       166\n",
      "             Lychee       1.00      0.67      0.80       166\n",
      "          Mandarine       0.00      0.00      0.00       166\n",
      "              Mango       0.00      0.00      0.00       166\n",
      "          Mango Red       0.18      0.09      0.12       142\n",
      "          Mangostan       0.80      0.08      0.14       102\n",
      "           Maracuja       0.00      0.00      0.00       166\n",
      " Melon Piel de Sapo       0.00      0.00      0.00       246\n",
      "           Mulberry       0.00      0.00      0.00       164\n",
      "          Nectarine       0.37      0.41      0.39       164\n",
      "     Nectarine Flat       0.76      0.10      0.18       160\n",
      "         Nut Forest       0.00      0.00      0.00       218\n",
      "          Nut Pecan       0.00      0.00      0.00       178\n",
      "          Onion Red       0.35      0.59      0.44       150\n",
      "   Onion Red Peeled       0.00      0.00      0.00       155\n",
      "        Onion White       0.09      0.10      0.09       146\n",
      "             Orange       0.56      0.49      0.52       160\n",
      "             Papaya       0.33      0.71      0.46       164\n",
      "      Passion Fruit       0.18      1.00      0.31       166\n",
      "              Peach       0.00      0.00      0.00       164\n",
      "            Peach 2       0.50      0.89      0.64       246\n",
      "         Peach Flat       0.26      0.17      0.21       164\n",
      "               Pear       0.00      0.00      0.00       164\n",
      "         Pear Abate       0.11      0.01      0.02       166\n",
      "       Pear Forelle       0.54      0.73      0.62       234\n",
      "        Pear Kaiser       0.80      0.40      0.54       102\n",
      "       Pear Monster       0.56      0.87      0.68       166\n",
      "           Pear Red       0.00      0.00      0.00       222\n",
      "      Pear Williams       0.00      0.00      0.00       166\n",
      "             Pepino       0.88      0.34      0.49       166\n",
      "       Pepper Green       0.36      0.21      0.27       148\n",
      "         Pepper Red       1.00      0.05      0.10       222\n",
      "      Pepper Yellow       0.49      0.44      0.46       222\n",
      "           Physalis       0.00      0.00      0.00       164\n",
      " Physalis with Husk       0.17      0.21      0.19       164\n",
      "          Pineapple       0.24      0.08      0.12       166\n",
      "     Pineapple Mini       0.00      0.00      0.00       163\n",
      "       Pitahaya Red       1.00      0.40      0.57       166\n",
      "               Plum       0.39      0.62      0.48       151\n",
      "             Plum 2       0.00      0.00      0.00       142\n",
      "             Plum 3       0.00      0.00      0.00       304\n",
      "        Pomegranate       0.00      0.00      0.00       164\n",
      "     Pomelo Sweetie       0.91      0.82      0.86       153\n",
      "         Potato Red       0.00      0.00      0.00       150\n",
      "  Potato Red Washed       0.08      0.06      0.07       151\n",
      "       Potato Sweet       0.00      0.00      0.00       150\n",
      "       Potato White       0.10      0.19      0.13       150\n",
      "             Quince       0.00      0.00      0.00       166\n",
      "           Rambutan       0.00      0.00      0.00       164\n",
      "          Raspberry       0.00      0.00      0.00       166\n",
      "         Redcurrant       1.00      0.02      0.05       164\n",
      "              Salak       0.50      0.71      0.58       162\n",
      "         Strawberry       0.41      0.52      0.46       164\n",
      "   Strawberry Wedge       0.00      0.00      0.00       246\n",
      "          Tamarillo       1.00      0.27      0.42       166\n",
      "            Tangelo       0.00      0.00      0.00       166\n",
      "           Tomato 1       0.35      0.79      0.49       246\n",
      "           Tomato 2       1.00      0.31      0.47       225\n",
      "           Tomato 3       0.68      0.13      0.22       246\n",
      "           Tomato 4       0.70      0.82      0.76       160\n",
      "  Tomato Cherry Red       0.00      0.00      0.00       164\n",
      "      Tomato Maroon       0.12      0.08      0.09       127\n",
      "      Tomato Yellow       0.31      1.00      0.48       153\n",
      "             Walnut       0.35      1.00      0.52       249\n",
      "\n",
      "        avg / total       0.32      0.35      0.28     20622\n",
      "\n"
     ]
    }
   ],
   "source": [
    "print('Confusion Matrix')\n",
    "print(confusion_matrix(test_img_gen.classes, prededictions_alter))\n",
    "print('Classification Report')\n",
    "target_names = list(class_labels.values())\n",
    "print(classification_report(test_img_gen.classes, prededictions_alter, target_names=target_names))"
   ]
  },
  {
   "cell_type": "markdown",
   "metadata": {},
   "source": [
    "\n",
    "\n",
    "# #####Stuff under construction"
   ]
  },
  {
   "cell_type": "code",
   "execution_count": 43,
   "metadata": {},
   "outputs": [],
   "source": [
    "# 11. Predict new image"
   ]
  },
  {
   "cell_type": "code",
   "execution_count": 44,
   "metadata": {},
   "outputs": [],
   "source": [
    "from keras.preprocessing import image "
   ]
  },
  {
   "cell_type": "code",
   "execution_count": 32,
   "metadata": {},
   "outputs": [],
   "source": [
    "tester_file = '../DATA/fruits-360_dataset/fruits-360/test-multiple_fruits/Bananas(lady_finger)5.jpg'"
   ]
  },
  {
   "cell_type": "code",
   "execution_count": 33,
   "metadata": {},
   "outputs": [],
   "source": [
    "tester = image.load_img(tester_file,target_size=(100,100))"
   ]
  },
  {
   "cell_type": "code",
   "execution_count": 34,
   "metadata": {},
   "outputs": [
    {
     "data": {
      "text/plain": [
       "<matplotlib.image.AxesImage at 0x1dc79c3e048>"
      ]
     },
     "execution_count": 34,
     "metadata": {},
     "output_type": "execute_result"
    },
    {
     "data": {
      "image/png": "[encoded data removed]",
      "text/plain": [
       "<Figure size 432x288 with 1 Axes>"
      ]
     },
     "metadata": {
      "needs_background": "light"
     },
     "output_type": "display_data"
    }
   ],
   "source": [
    "plt.imshow(tester)"
   ]
  },
  {
   "cell_type": "code",
   "execution_count": 35,
   "metadata": {},
   "outputs": [
    {
     "data": {
      "text/plain": [
       "(100, 100, 3)"
      ]
     },
     "execution_count": 35,
     "metadata": {},
     "output_type": "execute_result"
    }
   ],
   "source": [
    "tester = image.img_to_array(tester)\n",
    "tester.shape"
   ]
  },
  {
   "cell_type": "code",
   "execution_count": 38,
   "metadata": {},
   "outputs": [
    {
     "data": {
      "text/plain": [
       "(1, 100, 100, 3)"
      ]
     },
     "execution_count": 38,
     "metadata": {},
     "output_type": "execute_result"
    }
   ],
   "source": [
    "tested = np.expand_dims(tester,axis=0)\n",
    "tested.shape"
   ]
  },
  {
   "cell_type": "code",
   "execution_count": 39,
   "metadata": {},
   "outputs": [],
   "source": [
    "tested = tested/255"
   ]
  },
  {
   "cell_type": "code",
   "execution_count": 41,
   "metadata": {},
   "outputs": [
    {
     "data": {
      "text/plain": [
       "array([115], dtype=int64)"
      ]
     },
     "execution_count": 41,
     "metadata": {},
     "output_type": "execute_result"
    }
   ],
   "source": [
    "model.predict_classes(tested)"
   ]
  },
  {
   "cell_type": "code",
   "execution_count": 42,
   "metadata": {},
   "outputs": [
    {
     "data": {
      "text/plain": [
       "array([[0.00817704, 0.00882808, 0.00778997, 0.00833698, 0.00836551,\n",
       "        0.00842895, 0.00832005, 0.00855029, 0.00802858, 0.00820642,\n",
       "        0.00850474, 0.00834134, 0.00874808, 0.00781954, 0.0086142 ,\n",
       "        0.00804932, 0.00819088, 0.00830893, 0.00839859, 0.00802899,\n",
       "        0.00826176, 0.00819568, 0.00774709, 0.0084015 , 0.00851022,\n",
       "        0.00844068, 0.00870879, 0.00861338, 0.00846119, 0.00793218,\n",
       "        0.00824472, 0.00916474, 0.00791749, 0.00820433, 0.00832518,\n",
       "        0.00829352, 0.00810518, 0.00857233, 0.00810604, 0.00847036,\n",
       "        0.00835477, 0.00790437, 0.00821684, 0.00794022, 0.0081358 ,\n",
       "        0.00803639, 0.0083198 , 0.00888282, 0.00817351, 0.00834121,\n",
       "        0.00785948, 0.00792814, 0.00806264, 0.00862642, 0.00896246,\n",
       "        0.00838896, 0.00820879, 0.00793662, 0.00863683, 0.00829157,\n",
       "        0.00829963, 0.0087365 , 0.00764898, 0.00832181, 0.00827993,\n",
       "        0.00833945, 0.00818137, 0.0082751 , 0.00852225, 0.00803747,\n",
       "        0.00873537, 0.00811945, 0.0082402 , 0.00836834, 0.00873069,\n",
       "        0.0087814 , 0.00857487, 0.00797873, 0.00889401, 0.00833033,\n",
       "        0.00868925, 0.00820413, 0.00840979, 0.00800108, 0.00805467,\n",
       "        0.00855028, 0.00868441, 0.00799361, 0.00889901, 0.00812191,\n",
       "        0.00853221, 0.00836841, 0.00848984, 0.00826121, 0.00823411,\n",
       "        0.00809695, 0.00814625, 0.00810911, 0.00809881, 0.00788804,\n",
       "        0.00859975, 0.00851633, 0.0085295 , 0.00841266, 0.00846314,\n",
       "        0.00934812, 0.00863963, 0.00779589, 0.00847907, 0.0076322 ,\n",
       "        0.00815566, 0.00858391, 0.00867784, 0.00808115, 0.00813236,\n",
       "        0.00964934, 0.00837166, 0.00805583, 0.00836556, 0.00836078]],\n",
       "      dtype=float32)"
      ]
     },
     "execution_count": 42,
     "metadata": {},
     "output_type": "execute_result"
    }
   ],
   "source": [
    "model.predict(tested)"
   ]
  },
  {
   "cell_type": "code",
   "execution_count": null,
   "metadata": {},
   "outputs": [],
   "source": []
  },
  {
   "cell_type": "markdown",
   "metadata": {},
   "source": [
    "# End"
   ]
  },
  {
   "cell_type": "markdown",
   "metadata": {},
   "source": [
    "# A Projrct by M Abdullah Anwar ( 17K-3942 )"
   ]
  },
  {
   "cell_type": "code",
   "execution_count": null,
   "metadata": {},
   "outputs": [],
   "source": []
  }
 ],
 "metadata": {
  "kernelspec": {
   "display_name": "Python 3",
   "language": "python",
   "name": "python3"
  },
  "language_info": {
   "codemirror_mode": {
    "name": "ipython",
    "version": 3
   },
   "file_extension": ".py",
   "mimetype": "text/x-python",
   "name": "python",
   "nbconvert_exporter": "python",
   "pygments_lexer": "ipython3",
   "version": "3.6.6"
  }
 },
 "nbformat": 4,
 "nbformat_minor": 2
}
