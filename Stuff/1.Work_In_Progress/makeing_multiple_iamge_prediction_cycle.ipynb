{
 "cells": [
  {
   "cell_type": "code",
   "execution_count": null,
   "metadata": {},
   "outputs": [],
   "source": [
    "\n",
    "# generate random integer values\n",
    "from random import seed\n",
    "from random import randint\n",
    "# seed random number generator\n",
    "seed(1)\n",
    "i = 1\n",
    "# generate some integers\n",
    "for _ in range(10):\n",
    "    value = randint(0, 119)\n",
    "    output = list(dictOFfruits.keys())[list(dictOFfruits.values()).index(value)]\n",
    "    pathOfFile = '../../DATA/fruits-360_dataset/fruits-360/T&T/Test/'+output\n",
    "    nameOfFile = [f for f in listdir(pathOfFile) if isfile(join(pathOfFile, f))] \n",
    "    randomIndexFromFile = np.random.randint(0,len(nameOfFile)) \n",
    "    nameOfImg = nameOfFile[randomIndexFromFile] \n",
    "    pathOfFile = pathOfFile + \"/\" + nameOfImg \n",
    "    Image = image.load_img(pathOfFile)\n",
    "    \n",
    "    print(pathOfFile)\n",
    "    \n",
    "    #PredictedClassNumber = model.predict_classes(Image)\n",
    "    \n",
    "    print(\"\\n(\",i,\")\")\n",
    "    i = i + 1\n",
    "    plt.imshow(img)\n",
    "    plt.axis('off')\n",
    "    plt.show()\n",
    "   # print(\"Predicted: \", list(dictOFfruits.keys())[list(dictOFfruits.values()).index(PredictedClassNumber[0])])\n",
    "    print(\"Actual: \", output)\n",
    "    \n",
    "    "
   ]
  }
 ],
 "metadata": {
  "kernelspec": {
   "display_name": "Python 3",
   "language": "python",
   "name": "python3"
  },
  "language_info": {
   "codemirror_mode": {
    "name": "ipython",
    "version": 3
   },
   "file_extension": ".py",
   "mimetype": "text/x-python",
   "name": "python",
   "nbconvert_exporter": "python",
   "pygments_lexer": "ipython3",
   "version": "3.6.6"
  }
 },
 "nbformat": 4,
 "nbformat_minor": 2
}
