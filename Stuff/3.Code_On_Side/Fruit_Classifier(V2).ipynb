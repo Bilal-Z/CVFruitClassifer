{
 "cells": [
  {
   "cell_type": "markdown",
   "metadata": {},
   "source": [
    "# .......................................................MashaAllah............................................................................ "
   ]
  },
  {
   "cell_type": "markdown",
   "metadata": {},
   "source": [
    "# Tranning model for (CV)FruitClassification"
   ]
  },
  {
   "cell_type": "markdown",
   "metadata": {},
   "source": [
    "# by: Abdullah and Bros"
   ]
  },
  {
   "cell_type": "markdown",
   "metadata": {},
   "source": [
    "#ConvolutionNeuralNetwork #DeepLearning #MachineLearning #ComputerVission #ArtificialIntaligence #DataScience "
   ]
  },
  {
   "cell_type": "code",
   "execution_count": 2,
   "metadata": {},
   "outputs": [],
   "source": [
    "import matplotlib.pyplot as plt\n",
    "import cv2"
   ]
  },
  {
   "cell_type": "markdown",
   "metadata": {},
   "source": [
    "# 1. Check Design"
   ]
  },
  {
   "cell_type": "code",
   "execution_count": 3,
   "metadata": {},
   "outputs": [],
   "source": [
    "s = cv2.imread('../DATA/fruits-360_dataset/fruits-360/T&T(cutom)/Training/Apple Braeburn/136_100.jpg')"
   ]
  },
  {
   "cell_type": "code",
   "execution_count": 4,
   "metadata": {},
   "outputs": [],
   "source": [
    "s = cv2.cvtColor(s,cv2.COLOR_BGR2RGB)"
   ]
  },
  {
   "cell_type": "code",
   "execution_count": 5,
   "metadata": {},
   "outputs": [
    {
     "data": {
      "text/plain": [
       "<matplotlib.image.AxesImage at 0x1dc67c80940>"
      ]
     },
     "execution_count": 5,
     "metadata": {},
     "output_type": "execute_result"
    },
    {
     "data": {
      "image/png": "[encoded data removed]",
      "text/plain": [
       "<Figure size 432x288 with 1 Axes>"
      ]
     },
     "metadata": {
      "needs_background": "light"
     },
     "output_type": "display_data"
    }
   ],
   "source": [
    "plt.imshow(s)"
   ]
  },
  {
   "cell_type": "code",
   "execution_count": 6,
   "metadata": {},
   "outputs": [
    {
     "data": {
      "text/plain": [
       "(100, 100, 3)"
      ]
     },
     "execution_count": 6,
     "metadata": {},
     "output_type": "execute_result"
    }
   ],
   "source": [
    "s.shape"
   ]
  },
  {
   "cell_type": "markdown",
   "metadata": {},
   "source": [
    "# 2. Image Data Generator Obj creation ... for rescaling and stuff like that"
   ]
  },
  {
   "cell_type": "code",
   "execution_count": 7,
   "metadata": {},
   "outputs": [
    {
     "name": "stderr",
     "output_type": "stream",
     "text": [
      "Using TensorFlow backend.\n"
     ]
    }
   ],
   "source": [
    "from keras.preprocessing.image import ImageDataGenerator"
   ]
  },
  {
   "cell_type": "code",
   "execution_count": 8,
   "metadata": {},
   "outputs": [],
   "source": [
    "#img_gen = ImageDataGenerator( rotation_range=30, width_shift_range=0.1, height_shift_range=0.1, rescale=1/255, shear_range=0.2, zoom_range=0.2, horizontal_flip=True, fill_mode='nearest')\n",
    "img_gen = ImageDataGenerator(rescale=1/255)"
   ]
  },
  {
   "cell_type": "code",
   "execution_count": 86,
   "metadata": {},
   "outputs": [
    {
     "name": "stdout",
     "output_type": "stream",
     "text": [
      "Found 60498 images belonging to 120 classes.\n"
     ]
    },
    {
     "data": {
      "text/plain": [
       "<keras_preprocessing.image.DirectoryIterator at 0x1dc71da5f98>"
      ]
     },
     "execution_count": 86,
     "metadata": {},
     "output_type": "execute_result"
    }
   ],
   "source": [
    "img_gen.flow_from_directory('../DATA/fruits-360_dataset/fruits-360/T&T(cutom)/Training') # return the itrator and two classes identified"
   ]
  },
  {
   "cell_type": "markdown",
   "metadata": {},
   "source": [
    "# 4. Building Model"
   ]
  },
  {
   "cell_type": "code",
   "execution_count": 10,
   "metadata": {},
   "outputs": [],
   "source": [
    "from keras.models import Sequential"
   ]
  },
  {
   "cell_type": "code",
   "execution_count": 11,
   "metadata": {},
   "outputs": [],
   "source": [
    "input_shape = (100,100,3)"
   ]
  },
  {
   "cell_type": "code",
   "execution_count": 12,
   "metadata": {},
   "outputs": [],
   "source": [
    "from keras.layers import Activation,Dropout,Flatten,Conv2D,MaxPooling2D,Dense"
   ]
  },
  {
   "cell_type": "code",
   "execution_count": 42,
   "metadata": {},
   "outputs": [],
   "source": [
    "model = Sequential()\n",
    "\n",
    "model.add(Conv2D(filters=16, kernel_size=(5,5),input_shape=(100,100,3) ))\n",
    "model.add(MaxPooling2D(pool_size=(2, 2),strides=2 ))\n",
    "\n",
    "model.add(Conv2D(filters=32, kernel_size=(5,5) ))\n",
    "model.add(MaxPooling2D(pool_size=(2, 2),strides=2 ))\n",
    "\n",
    "model.add(Conv2D(filters=64, kernel_size=(5,5) ))\n",
    "model.add(MaxPooling2D(pool_size=(2, 2),strides=2 ))\n",
    "\n",
    "model.add(Conv2D(filters=128, kernel_size=(5,5) ))\n",
    "#model.add(MaxPooling2D(pool_size=(2, 2),strides=2 ))\n",
    "\n",
    "\n",
    "\n",
    "\n",
    "\n",
    "# Dropouts help reduce overfitting by randomly turning neurons off during training.\n",
    "# Here we say randomly turn off 50% of neurons.\n",
    "#model.add(Dropout(0.5))\n",
    "\n",
    "#model.add(Flatten())\n",
    "\n",
    "\n",
    "model.add(Dense(1024))\n",
    "\n",
    "model.add(Flatten())\n",
    "model.add(Dense(256))\n",
    "\n",
    "\n",
    "model.add(Dense(1, activation='softmax'))\n"
   ]
  },
  {
   "cell_type": "code",
   "execution_count": 43,
   "metadata": {},
   "outputs": [
    {
     "name": "stdout",
     "output_type": "stream",
     "text": [
      "_________________________________________________________________\n",
      "Layer (type)                 Output Shape              Param #   \n",
      "=================================================================\n",
      "conv2d_5 (Conv2D)            (None, 96, 96, 16)        1216      \n",
      "_________________________________________________________________\n",
      "max_pooling2d_4 (MaxPooling2 (None, 48, 48, 16)        0         \n",
      "_________________________________________________________________\n",
      "conv2d_6 (Conv2D)            (None, 44, 44, 32)        12832     \n",
      "_________________________________________________________________\n",
      "max_pooling2d_5 (MaxPooling2 (None, 22, 22, 32)        0         \n",
      "_________________________________________________________________\n",
      "conv2d_7 (Conv2D)            (None, 18, 18, 64)        51264     \n",
      "_________________________________________________________________\n",
      "max_pooling2d_6 (MaxPooling2 (None, 9, 9, 64)          0         \n",
      "_________________________________________________________________\n",
      "conv2d_8 (Conv2D)            (None, 5, 5, 128)         204928    \n",
      "_________________________________________________________________\n",
      "dense_4 (Dense)              (None, 5, 5, 1024)        132096    \n",
      "_________________________________________________________________\n",
      "flatten_2 (Flatten)          (None, 25600)             0         \n",
      "_________________________________________________________________\n",
      "dense_5 (Dense)              (None, 256)               6553856   \n",
      "_________________________________________________________________\n",
      "dense_6 (Dense)              (None, 1)                 257       \n",
      "=================================================================\n",
      "Total params: 6,956,449\n",
      "Trainable params: 6,956,449\n",
      "Non-trainable params: 0\n",
      "_________________________________________________________________\n"
     ]
    }
   ],
   "source": [
    "model.summary()"
   ]
  },
  {
   "cell_type": "code",
   "execution_count": 63,
   "metadata": {},
   "outputs": [],
   "source": [
    "\n",
    "model.compile(loss='binary_crossentropy',optimizer='adam',metrics=['accuracy'])\n",
    "#model.compile(optimizer='rmsprop',loss='categorical_crossentropy',metrics=['accuracy'])"
   ]
  },
  {
   "cell_type": "markdown",
   "metadata": {},
   "source": [
    "# 5. Bulit Model Summary"
   ]
  },
  {
   "cell_type": "code",
   "execution_count": 64,
   "metadata": {},
   "outputs": [],
   "source": [
    "#model.summary()"
   ]
  },
  {
   "cell_type": "markdown",
   "metadata": {},
   "source": [
    "# 6. Activating Image Generator"
   ]
  },
  {
   "cell_type": "code",
   "execution_count": 65,
   "metadata": {},
   "outputs": [],
   "source": [
    "batch_size = 10"
   ]
  },
  {
   "cell_type": "code",
   "execution_count": 66,
   "metadata": {},
   "outputs": [],
   "source": [
    "input_shape = (100,100,3)"
   ]
  },
  {
   "cell_type": "code",
   "execution_count": 67,
   "metadata": {},
   "outputs": [],
   "source": [
    "import numpy as np"
   ]
  },
  {
   "cell_type": "code",
   "execution_count": 68,
   "metadata": {},
   "outputs": [],
   "source": [
    "input_shape = (100,100,3)"
   ]
  },
  {
   "cell_type": "code",
   "execution_count": 69,
   "metadata": {},
   "outputs": [
    {
     "name": "stdout",
     "output_type": "stream",
     "text": [
      "Found 1953 images belonging to 4 classes.\n"
     ]
    }
   ],
   "source": [
    "train_image_gen = img_gen.flow_from_directory ('../DATA/fruits-360_dataset/fruits-360/T&T(cutom2)/Training', target_size=input_shape[:2], batch_size=batch_size, class_mode='binary')"
   ]
  },
  {
   "cell_type": "code",
   "execution_count": 70,
   "metadata": {},
   "outputs": [
    {
     "name": "stdout",
     "output_type": "stream",
     "text": [
      "Found 654 images belonging to 4 classes.\n"
     ]
    }
   ],
   "source": [
    "test_image_gen = img_gen.flow_from_directory('../DATA/fruits-360_dataset/fruits-360/T&T(cutom2)/Test', target_size=input_shape[:2], batch_size=batch_size, class_mode='binary')"
   ]
  },
  {
   "cell_type": "code",
   "execution_count": 71,
   "metadata": {},
   "outputs": [
    {
     "data": {
      "text/plain": [
       "10"
      ]
     },
     "execution_count": 71,
     "metadata": {},
     "output_type": "execute_result"
    }
   ],
   "source": [
    "train_image_gen.batch_size"
   ]
  },
  {
   "cell_type": "code",
   "execution_count": 72,
   "metadata": {},
   "outputs": [],
   "source": [
    "#from keras.utils.np_utils.to_categorical import "
   ]
  },
  {
   "cell_type": "code",
   "execution_count": 73,
   "metadata": {},
   "outputs": [],
   "source": [
    "from keras.utils import to_categorical\n",
    "#y_binary = to_categorical(y_int)"
   ]
  },
  {
   "cell_type": "markdown",
   "metadata": {},
   "source": [
    "# 7. Classes we have"
   ]
  },
  {
   "cell_type": "code",
   "execution_count": 74,
   "metadata": {},
   "outputs": [
    {
     "data": {
      "text/plain": [
       "{'Apple Braeburn': 0, 'Banana': 1, 'Orange': 2, 'Strawberry': 3}"
      ]
     },
     "execution_count": 74,
     "metadata": {},
     "output_type": "execute_result"
    }
   ],
   "source": [
    "train_image_gen.class_indices"
   ]
  },
  {
   "cell_type": "markdown",
   "metadata": {},
   "source": [
    "# 8.Traning Model for 100 epochs"
   ]
  },
  {
   "cell_type": "code",
   "execution_count": 75,
   "metadata": {},
   "outputs": [],
   "source": [
    "import warnings"
   ]
  },
  {
   "cell_type": "code",
   "execution_count": 76,
   "metadata": {},
   "outputs": [],
   "source": [
    "warnings.filterwarnings('ignore')"
   ]
  },
  {
   "cell_type": "code",
   "execution_count": 78,
   "metadata": {},
   "outputs": [
    {
     "name": "stdout",
     "output_type": "stream",
     "text": [
      "Epoch 1/1\n",
      "150/150 [==============================] - 46s 308ms/step - loss: -8.0453 - acc: 0.2516 - val_loss: -7.8981 - val_acc: 0.2538\n"
     ]
    }
   ],
   "source": [
    "results = model.fit_generator(train_image_gen,epochs=1, steps_per_epoch=150, validation_data=test_image_gen, validation_steps=12)"
   ]
  },
  {
   "cell_type": "code",
   "execution_count": 80,
   "metadata": {},
   "outputs": [],
   "source": [
    "from keras.preprocessing import image "
   ]
  },
  {
   "cell_type": "code",
   "execution_count": 85,
   "metadata": {},
   "outputs": [
    {
     "data": {
      "text/plain": [
       "array([[1]])"
      ]
     },
     "execution_count": 85,
     "metadata": {},
     "output_type": "execute_result"
    }
   ],
   "source": [
    "tester_file = '../DATA/fruits-360_dataset/fruits-360/T&T(cutom2)/Test/Orange/30_100.jpg'\n",
    "tester = image.load_img(tester_file,target_size=(100,100))\n",
    "tester = image.img_to_array(tester)\n",
    "import numpy as np\n",
    "tester = np.expand_dims(tester,axis=0)\n",
    "tester = tester/255\n",
    "model.predict_classes(tester)"
   ]
  },
  {
   "cell_type": "code",
   "execution_count": 83,
   "metadata": {},
   "outputs": [
    {
     "data": {
      "text/plain": [
       "array([[1.]], dtype=float32)"
      ]
     },
     "execution_count": 83,
     "metadata": {},
     "output_type": "execute_result"
    }
   ],
   "source": [
    "model.predict(tester)"
   ]
  },
  {
   "cell_type": "code",
   "execution_count": null,
   "metadata": {},
   "outputs": [],
   "source": []
  },
  {
   "cell_type": "code",
   "execution_count": null,
   "metadata": {},
   "outputs": [],
   "source": []
  },
  {
   "cell_type": "code",
   "execution_count": null,
   "metadata": {},
   "outputs": [],
   "source": []
  },
  {
   "cell_type": "code",
   "execution_count": null,
   "metadata": {},
   "outputs": [],
   "source": []
  },
  {
   "cell_type": "code",
   "execution_count": null,
   "metadata": {},
   "outputs": [],
   "source": []
  },
  {
   "cell_type": "code",
   "execution_count": null,
   "metadata": {},
   "outputs": [],
   "source": []
  },
  {
   "cell_type": "markdown",
   "metadata": {},
   "source": [
    "# 9. Evoluating performance "
   ]
  },
  {
   "cell_type": "code",
   "execution_count": 136,
   "metadata": {},
   "outputs": [
    {
     "data": {
      "text/plain": [
       "[0.14458333333333334,\n",
       " 0.1416003351612075,\n",
       " 0.14327607875994972,\n",
       " 0.14662756599488996,\n",
       " 0.14291666666666666,\n",
       " 0.14237573715248525,\n",
       " 0.14208333333333334,\n",
       " 0.14620863007959783,\n",
       " 0.14875,\n",
       " 0.13824884795123782,\n",
       " 0.14083333333333334,\n",
       " 0.15122156697556866,\n",
       " 0.1375,\n",
       " 0.14458333333333334,\n",
       " 0.15123586092576552,\n",
       " 0.1277754503685808,\n",
       " 0.15207373271889402,\n",
       " 0.14997905320485966,\n",
       " 0.13583333333333333,\n",
       " 0.14160033514872225,\n",
       " 0.145,\n",
       " 0.15417017695425736,\n",
       " 0.13333333333333333,\n",
       " 0.14285714285714285,\n",
       " 0.14578969417679094,\n",
       " 0.14458333333333334,\n",
       " 0.14160033514872225,\n",
       " 0.1449518223711772,\n",
       " 0.13833333333333334,\n",
       " 0.14872224549643903,\n",
       " 0.13958333333333334,\n",
       " 0.1470465019101821,\n",
       " 0.14201927105152912,\n",
       " 0.14291666666666666,\n",
       " 0.1427969671566143,\n",
       " 0.1425,\n",
       " 0.14458333333333334,\n",
       " 0.14537075827398407,\n",
       " 0.14785172704296545,\n",
       " 0.14416666666666667,\n",
       " 0.13447842480100544,\n",
       " 0.14916666666666667,\n",
       " 0.14285714285714285,\n",
       " 0.15208333333333332,\n",
       " 0.13112693757855048,\n",
       " 0.1508169250104734,\n",
       " 0.14243820696682125,\n",
       " 0.14125,\n",
       " 0.1466275659824047,\n",
       " 0.13531629660661917,\n",
       " 0.1545873481482205,\n",
       " 0.13583333333333333,\n",
       " 0.14620863007959783,\n",
       " 0.15,\n",
       " 0.14243820696682125,\n",
       " 0.14076246334310852,\n",
       " 0.13531629660661917,\n",
       " 0.1425,\n",
       " 0.15207373273137928,\n",
       " 0.1416003351612075,\n",
       " 0.14458333333333334,\n",
       " 0.14658803706823925,\n",
       " 0.14,\n",
       " 0.13908671975685155,\n",
       " 0.13666666666666666,\n",
       " 0.1545873481482205,\n",
       " 0.14201927106401438,\n",
       " 0.14830330960611743,\n",
       " 0.14125,\n",
       " 0.1445328864808556,\n",
       " 0.14333333333333334,\n",
       " 0.1403435274527869,\n",
       " 0.14411395056556348,\n",
       " 0.14411395056556348,\n",
       " 0.1474654378005037,\n",
       " 0.14,\n",
       " 0.13791666666666666,\n",
       " 0.13942712721145745,\n",
       " 0.15375,\n",
       " 0.14160033514872225,\n",
       " 0.14285714285714285,\n",
       " 0.15083333333333335,\n",
       " 0.13833333333333334,\n",
       " 0.1436950146627566,\n",
       " 0.14201927107649964,\n",
       " 0.14495182238366247,\n",
       " 0.1382488479262673,\n",
       " 0.1516547968285724,\n",
       " 0.14041666666666666,\n",
       " 0.14201927107649964,\n",
       " 0.14118139924591538,\n",
       " 0.14791666666666667,\n",
       " 0.14872224549643903,\n",
       " 0.14327607875994972,\n",
       " 0.14166666666666666,\n",
       " 0.14034352744030162,\n",
       " 0.14453288646837034,\n",
       " 0.145,\n",
       " 0.14201927105152912,\n",
       " 0.14327607875994972]"
      ]
     },
     "execution_count": 136,
     "metadata": {},
     "output_type": "execute_result"
    }
   ],
   "source": [
    "results.history['acc']"
   ]
  },
  {
   "cell_type": "code",
   "execution_count": 137,
   "metadata": {},
   "outputs": [
    {
     "data": {
      "text/plain": [
       "[<matplotlib.lines.Line2D at 0x2b5273d4518>]"
      ]
     },
     "execution_count": 137,
     "metadata": {},
     "output_type": "execute_result"
    },
    {
     "data": {
      "image/png": "[encoded data removed]",
      "text/plain": [
       "<Figure size 432x288 with 1 Axes>"
      ]
     },
     "metadata": {
      "needs_background": "light"
     },
     "output_type": "display_data"
    }
   ],
   "source": [
    "plt.plot(results.history['acc'])"
   ]
  },
  {
   "cell_type": "markdown",
   "metadata": {},
   "source": [
    "# 10. load and save model"
   ]
  },
  {
   "cell_type": "code",
   "execution_count": 138,
   "metadata": {},
   "outputs": [],
   "source": [
    "from keras.models import load_model"
   ]
  },
  {
   "cell_type": "code",
   "execution_count": 139,
   "metadata": {},
   "outputs": [],
   "source": [
    "model.save('Model3942.h5')"
   ]
  },
  {
   "cell_type": "code",
   "execution_count": 140,
   "metadata": {},
   "outputs": [],
   "source": [
    "#new_model = load_model('cat_dog_100epochs.h5')"
   ]
  },
  {
   "cell_type": "markdown",
   "metadata": {},
   "source": [
    "# 11. Predict new image"
   ]
  },
  {
   "cell_type": "code",
   "execution_count": 141,
   "metadata": {},
   "outputs": [],
   "source": [
    "from keras.preprocessing import image "
   ]
  },
  {
   "cell_type": "code",
   "execution_count": 178,
   "metadata": {},
   "outputs": [],
   "source": [
    "tester_file = '../DATA/fruits-360_dataset/fruits-360/test-multiple_fruits/Bananas(lady_finger)5.jpg'"
   ]
  },
  {
   "cell_type": "code",
   "execution_count": 191,
   "metadata": {},
   "outputs": [],
   "source": [
    "tester = image.load_img(tester_file,target_size=(100,100))"
   ]
  },
  {
   "cell_type": "code",
   "execution_count": 192,
   "metadata": {},
   "outputs": [
    {
     "data": {
      "text/plain": [
       "<matplotlib.image.AxesImage at 0x2b5296be2b0>"
      ]
     },
     "execution_count": 192,
     "metadata": {},
     "output_type": "execute_result"
    },
    {
     "data": {
      "image/png": "[encoded data removed]",
      "text/plain": [
       "<Figure size 432x288 with 1 Axes>"
      ]
     },
     "metadata": {
      "needs_background": "light"
     },
     "output_type": "display_data"
    }
   ],
   "source": [
    "plt.imshow(tester)"
   ]
  },
  {
   "cell_type": "code",
   "execution_count": 193,
   "metadata": {},
   "outputs": [],
   "source": [
    "tester = image.img_to_array(tester)"
   ]
  },
  {
   "cell_type": "code",
   "execution_count": 194,
   "metadata": {},
   "outputs": [
    {
     "data": {
      "text/plain": [
       "(100, 100, 3)"
      ]
     },
     "execution_count": 194,
     "metadata": {},
     "output_type": "execute_result"
    }
   ],
   "source": [
    "tester.shape"
   ]
  },
  {
   "cell_type": "code",
   "execution_count": 195,
   "metadata": {},
   "outputs": [],
   "source": [
    "import numpy as np"
   ]
  },
  {
   "cell_type": "code",
   "execution_count": 196,
   "metadata": {},
   "outputs": [],
   "source": [
    "tester = np.expand_dims(tester,axis=0)"
   ]
  },
  {
   "cell_type": "code",
   "execution_count": 197,
   "metadata": {},
   "outputs": [
    {
     "data": {
      "text/plain": [
       "(1, 100, 100, 3)"
      ]
     },
     "execution_count": 197,
     "metadata": {},
     "output_type": "execute_result"
    }
   ],
   "source": [
    "tester.shape"
   ]
  },
  {
   "cell_type": "code",
   "execution_count": 198,
   "metadata": {},
   "outputs": [],
   "source": [
    "tester = tester/255"
   ]
  },
  {
   "cell_type": "code",
   "execution_count": 199,
   "metadata": {},
   "outputs": [
    {
     "data": {
      "text/plain": [
       "array([[1]])"
      ]
     },
     "execution_count": 199,
     "metadata": {},
     "output_type": "execute_result"
    }
   ],
   "source": [
    "model.predict_classes(tester)"
   ]
  },
  {
   "cell_type": "code",
   "execution_count": 200,
   "metadata": {},
   "outputs": [
    {
     "data": {
      "text/plain": [
       "array([[1.]], dtype=float32)"
      ]
     },
     "execution_count": 200,
     "metadata": {},
     "output_type": "execute_result"
    }
   ],
   "source": [
    "model.predict(tester)"
   ]
  },
  {
   "cell_type": "markdown",
   "metadata": {},
   "source": [
    "# End"
   ]
  },
  {
   "cell_type": "markdown",
   "metadata": {},
   "source": [
    "# A model coadeded by M Abdullah Anwar ( 17K-3942 )"
   ]
  }
 ],
 "metadata": {
  "kernelspec": {
   "display_name": "Python 3",
   "language": "python",
   "name": "python3"
  },
  "language_info": {
   "codemirror_mode": {
    "name": "ipython",
    "version": 3
   },
   "file_extension": ".py",
   "mimetype": "text/x-python",
   "name": "python",
   "nbconvert_exporter": "python",
   "pygments_lexer": "ipython3",
   "version": "3.6.6"
  }
 },
 "nbformat": 4,
 "nbformat_minor": 2
}
